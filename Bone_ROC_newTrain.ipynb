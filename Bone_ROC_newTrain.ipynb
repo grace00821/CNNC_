{
 "cells": [
  {
   "cell_type": "markdown",
   "metadata": {},
   "source": [
    "# Bone ROC new Train (train data)"
   ]
  },
  {
   "cell_type": "markdown",
   "metadata": {},
   "source": [
    "## Import data"
   ]
  },
  {
   "cell_type": "code",
   "execution_count": 1,
   "metadata": {},
   "outputs": [
    {
     "name": "stdout",
     "output_type": "stream",
     "text": [
      "(24784, 1)\n",
      "(24784, 1)\n"
     ]
    }
   ],
   "source": [
    "import numpy as np\n",
    "\n",
    "pdata = np.load('1_xxjust_two_3fold_db_lr002_YYYY_saved_models_T_32-32-64-64-128-128-512_e200/end_y_predict.npy')\n",
    "print(pdata.shape)\n",
    "\n",
    "odata = np.load('1_xxjust_two_3fold_db_lr002_YYYY_saved_models_T_32-32-64-64-128-128-512_e200/end_y_test.npy')\n",
    "odata = np.array(odata)[np.newaxis]\n",
    "print(odata.T.shape)\n",
    "\n",
    "n_classes = pdata.shape[1]"
   ]
  },
  {
   "cell_type": "markdown",
   "metadata": {},
   "source": [
    "## ROC curve and AUC"
   ]
  },
  {
   "cell_type": "code",
   "execution_count": 2,
   "metadata": {},
   "outputs": [
    {
     "data": {
      "text/plain": [
       "[0.748508592613323]"
      ]
     },
     "execution_count": 2,
     "metadata": {},
     "output_type": "execute_result"
    }
   ],
   "source": [
    "from sklearn import metrics\n",
    "\n",
    "fpr = []\n",
    "tpr = []\n",
    "roc_auc = []\n",
    "for i in range(n_classes):\n",
    "    ftemp, ttemp, _ = metrics.roc_curve(odata.T[:,i], pdata[:,i])\n",
    "    fpr.append(ftemp)\n",
    "    tpr.append(ttemp)\n",
    "    roc_auc.append(metrics.auc(fpr[i], tpr[i]))\n",
    "\n",
    "roc_auc"
   ]
  },
  {
   "cell_type": "markdown",
   "metadata": {},
   "source": [
    "## Plot ROC curve"
   ]
  },
  {
   "cell_type": "code",
   "execution_count": 3,
   "metadata": {},
   "outputs": [
    {
     "data": {
      "image/png": "[encoded data removed]",
      "text/plain": [
       "<Figure size 360x288 with 1 Axes>"
      ]
     },
     "metadata": {
      "needs_background": "light"
     },
     "output_type": "display_data"
    }
   ],
   "source": [
    "import matplotlib.pyplot as plt\n",
    "\n",
    "fig, ax1 = plt.subplots(1, 1, sharex=True, sharey=True)\n",
    "fig.set_figwidth(5)\n",
    "lw = 2\n",
    "ax1.plot(\n",
    "    fpr[0],\n",
    "    tpr[0],\n",
    "    color=\"darkorange\",\n",
    "    lw=lw,\n",
    "    label=\"ROC curve (area = %0.2f)\" % roc_auc[0],\n",
    ")\n",
    "ax1.plot([0, 1], [0, 1], color=\"navy\", lw=lw, linestyle=\"--\")\n",
    "\n",
    "# ax2.plot(\n",
    "#     fpr[1],\n",
    "#     tpr[1],\n",
    "#     color=\"darkorange\",\n",
    "#     lw=lw,\n",
    "#     label=\"ROC curve (area = %0.2f)\" % roc_auc[1],\n",
    "# )\n",
    "# ax2.plot([0, 1], [0, 1], color=\"navy\", lw=lw, linestyle=\"--\")\n",
    "\n",
    "# ax3.plot(\n",
    "#     fpr[2],\n",
    "#     tpr[2],\n",
    "#     color=\"darkorange\",\n",
    "#     lw=lw,\n",
    "#     label=\"ROC curve (area = %0.2f)\" % roc_auc[2],\n",
    "# )\n",
    "# ax3.plot([0, 1], [0, 1], color=\"navy\", lw=lw, linestyle=\"--\")\n",
    "\n",
    "ax1.set_title('Label 0')\n",
    "# ax2.set_title('Label 1')\n",
    "# ax3.set_title('Label 2')\n",
    "\n",
    "ax1.set(ylabel='True Positive Rate')\n",
    "fig.text(0.5, 0.01, 'False Positive Rate', ha='center')\n",
    "plt.show()"
   ]
  }
 ],
 "metadata": {
  "kernelspec": {
   "display_name": "Python 3.7.9 ('base')",
   "language": "python",
   "name": "python3"
  },
  "language_info": {
   "codemirror_mode": {
    "name": "ipython",
    "version": 3
   },
   "file_extension": ".py",
   "mimetype": "text/x-python",
   "name": "python",
   "nbconvert_exporter": "python",
   "pygments_lexer": "ipython3",
   "version": "3.7.9"
  },
  "orig_nbformat": 4,
  "vscode": {
   "interpreter": {
    "hash": "40d3a090f54c6569ab1632332b64b2c03c39dcf918b08424e98f38b5ae0af88f"
   }
  }
 },
 "nbformat": 4,
 "nbformat_minor": 2
}
